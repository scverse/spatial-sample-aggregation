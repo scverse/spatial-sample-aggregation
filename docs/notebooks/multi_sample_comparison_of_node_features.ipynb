{
 "cells": [
  {
   "cell_type": "code",
   "execution_count": 3,
   "metadata": {},
   "outputs": [],
   "source": [
    "import graphcompass as gc\n",
    "import squidpy as sq\n",
    "import scanpy as sc\n",
    "from spatial_sample_aggregation.tl import aggregate_by_node"
   ]
  },
  {
   "cell_type": "code",
   "execution_count": 4,
   "metadata": {},
   "outputs": [
    {
     "name": "stderr",
     "output_type": "stream",
     "text": [
      "/Users/lea.zimmermann/software/miniconda3/envs/owkin/lib/python3.11/site-packages/anndata/_core/aligned_df.py:68: ImplicitModificationWarning: Transforming to str index.\n",
      "  warnings.warn(\"Transforming to str index.\", ImplicitModificationWarning)\n",
      "/Users/lea.zimmermann/software/miniconda3/envs/owkin/lib/python3.11/site-packages/anndata/_core/anndata.py:1756: UserWarning: Observation names are not unique. To make them unique, call `.obs_names_make_unique`.\n",
      "  utils.warn_names_duplicates(\"obs\")\n"
     ]
    }
   ],
   "source": [
    "adata = gc.datasets.mibitof_breast_cancer()\n",
    "adata.obs_names_make_unique()"
   ]
  },
  {
   "cell_type": "code",
   "execution_count": 5,
   "metadata": {},
   "outputs": [],
   "source": [
    "sq.gr.spatial_neighbors(adata, n_neighs=10, coord_type='generic', library_key=\"Point_Num\", key_added='shannon')\n",
    "sq.gr.spatial_neighbors(adata, delaunay=True, radius=(0,50), coord_type='generic', library_key=\"Point_Num\", key_added='degree')\n",
    "sq.gr.spatial_neighbors(adata, delaunay=True, radius=(0,400), coord_type='generic', library_key=\"Point_Num\", key_added='distance')"
   ]
  },
  {
   "cell_type": "code",
   "execution_count": 6,
   "metadata": {},
   "outputs": [
    {
     "data": {
      "text/plain": [
       "AnnData object with n_obs × n_vars = 69672 × 59\n",
       "    obs: 'event', 'Point_Num', 'CohortNumber', 'Tissue_Type', 'Status', 'Tissue', 'sublineage', 'phenotype', 'compartment', 'celllineage', 'sublineage_code', 'phenotype_code', 'compartment_code', 'celllineage_code', 'manual_gating_cellineage', 'manual_gating_subineage', 'manual_gating_phenotype', 'innerduct_mask', 'distal_mask', 'stroma_mask', 'periph_mask', 'epi_mask', 'duct_mask', 'myoep_mask', 'ERstatus', 'HER2status', 'ARstatus', 'Ki67status', 'pS6status', 'GLUT1status', 'HIF1astatus', 'COX2status', 'CD36status', 'CD44status', 'PD1status', 'PDL1status', 'IDO1status', 'GZMBstatus', 'ECADstatus', 'MMP9status', 'VIMstatus', 'FAPstatus', 'HLADRstatus', 'CD3status', 'SMAstatus', 'COLIstatus', 'CK5status', 'CK7status', 'P63status', 'myoep_dist_label', 'myoep_dist_MinDist', 'myoep_dist_MaxDist', 'myoep_dist_MedDist', 'myoep_dist_MeanDist', 'celltype_code', 'myoep_dist_MinDist1', 'Neighbor_dist_TUMOR', 'Neighbor_dist_MYOEP', 'Neighbor_dist_FIBROBLAST', 'Neighbor_dist_ENDO', 'Neighbor_dist_MONODC', 'Neighbor_dist_MONO', 'Neighbor_dist_MACS', 'Neighbor_dist_DC', 'Neighbor_dist_APC', 'Neighbor_dist_MAST', 'Neighbor_dist_CD8T', 'Neighbor_dist_CD4T', 'Neighbor_dist_BCELL', 'Neighbor_dist_TCELL', 'Neighbor_dist_NEUT', 'Neighbor_dist_IMMUNEOTHER', 'K10_cluster', 'duct_edge_mask', 'duct_mid_mask', 'duct_core_mask', 'labels_id', 'batch'\n",
       "    uns: 'compartment_colors', 'spatial', 'shannon_neighbors', 'degree_neighbors', 'distance_neighbors'\n",
       "    obsm: 'spatial'\n",
       "    obsp: 'shannon_connectivities', 'shannon_distances', 'degree_connectivities', 'degree_distances', 'distance_connectivities', 'distance_distances'"
      ]
     },
     "execution_count": 6,
     "metadata": {},
     "output_type": "execute_result"
    }
   ],
   "source": [
    "adata"
   ]
  },
  {
   "cell_type": "code",
   "execution_count": 8,
   "metadata": {},
   "outputs": [
    {
     "data": {
      "text/plain": [
       "Index(['event', 'Point_Num', 'CohortNumber', 'Tissue_Type', 'Status', 'Tissue',\n",
       "       'sublineage', 'phenotype', 'compartment', 'celllineage',\n",
       "       'sublineage_code', 'phenotype_code', 'compartment_code',\n",
       "       'celllineage_code', 'manual_gating_cellineage',\n",
       "       'manual_gating_subineage', 'manual_gating_phenotype', 'innerduct_mask',\n",
       "       'distal_mask', 'stroma_mask', 'periph_mask', 'epi_mask', 'duct_mask',\n",
       "       'myoep_mask', 'ERstatus', 'HER2status', 'ARstatus', 'Ki67status',\n",
       "       'pS6status', 'GLUT1status', 'HIF1astatus', 'COX2status', 'CD36status',\n",
       "       'CD44status', 'PD1status', 'PDL1status', 'IDO1status', 'GZMBstatus',\n",
       "       'ECADstatus', 'MMP9status', 'VIMstatus', 'FAPstatus', 'HLADRstatus',\n",
       "       'CD3status', 'SMAstatus', 'COLIstatus', 'CK5status', 'CK7status',\n",
       "       'P63status', 'myoep_dist_label', 'myoep_dist_MinDist',\n",
       "       'myoep_dist_MaxDist', 'myoep_dist_MedDist', 'myoep_dist_MeanDist',\n",
       "       'celltype_code', 'myoep_dist_MinDist1', 'Neighbor_dist_TUMOR',\n",
       "       'Neighbor_dist_MYOEP', 'Neighbor_dist_FIBROBLAST', 'Neighbor_dist_ENDO',\n",
       "       'Neighbor_dist_MONODC', 'Neighbor_dist_MONO', 'Neighbor_dist_MACS',\n",
       "       'Neighbor_dist_DC', 'Neighbor_dist_APC', 'Neighbor_dist_MAST',\n",
       "       'Neighbor_dist_CD8T', 'Neighbor_dist_CD4T', 'Neighbor_dist_BCELL',\n",
       "       'Neighbor_dist_TCELL', 'Neighbor_dist_NEUT',\n",
       "       'Neighbor_dist_IMMUNEOTHER', 'K10_cluster', 'duct_edge_mask',\n",
       "       'duct_mid_mask', 'duct_core_mask', 'labels_id', 'batch'],\n",
       "      dtype='object')"
      ]
     },
     "execution_count": 8,
     "metadata": {},
     "output_type": "execute_result"
    }
   ],
   "source": [
    "adata.obs.columns"
   ]
  },
  {
   "cell_type": "code",
   "execution_count": null,
   "metadata": {},
   "outputs": [],
   "source": [
    "aggregate_by_node(adata,\n",
    "                  sample_key=\"Point_Num\",\n",
    "                  cluster_key=\"celllineage\",\n",
    "                  metric=\"degree\",\n",
    "                  aggregation=None,\n",
    "                  connectivity_key=\"degree_connectivities\",\n",
    "                  added_key=\"degree\"\n",
    "                  )"
   ]
  }
 ],
 "metadata": {
  "kernelspec": {
   "display_name": "owkin",
   "language": "python",
   "name": "python3"
  },
  "language_info": {
   "codemirror_mode": {
    "name": "ipython",
    "version": 3
   },
   "file_extension": ".py",
   "mimetype": "text/x-python",
   "name": "python",
   "nbconvert_exporter": "python",
   "pygments_lexer": "ipython3",
   "version": "3.11.11"
  }
 },
 "nbformat": 4,
 "nbformat_minor": 2
}
